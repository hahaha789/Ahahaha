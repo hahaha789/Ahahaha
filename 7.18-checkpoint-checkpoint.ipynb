{
 "cells": [
  {
   "cell_type": "markdown",
   "metadata": {},
   "source": [
    "# 选择\n",
    "## 布尔类型、数值和表达式\n",
    "![](../Photo/33.png)\n",
    "- 注意：比较运算符的相等是两个等到，一个等到代表赋值\n",
    "- 在Python中可以用整型0来代表False，其他数字来代表True\n",
    "- 后面还会讲到 is 在判断语句中的用发"
   ]
  },
  {
   "cell_type": "code",
   "execution_count": null,
   "metadata": {},
   "outputs": [],
   "source": []
  },
  {
   "cell_type": "markdown",
   "metadata": {},
   "source": [
    "## 字符串的比较使用ASCII值"
   ]
  },
  {
   "cell_type": "markdown",
   "metadata": {},
   "source": [
    "## Markdown \n",
    "- https://github.com/younghz/Markdown"
   ]
  },
  {
   "cell_type": "markdown",
   "metadata": {},
   "source": [
    "## EP:\n",
    "- <img src=\"../Photo/34.png\"></img>\n",
    "- 输入一个数字，判断其实奇数还是偶数"
   ]
  },
  {
   "cell_type": "markdown",
   "metadata": {},
   "source": [
    "## 产生随机数字\n",
    "- 函数random.randint(a,b) 可以用来产生一个a和b之间且包括a和b的随机整数"
   ]
  },
  {
   "cell_type": "markdown",
   "metadata": {},
   "source": [
    "##  其他random方法\n",
    "- random.random 返回0.0到1.0之间前闭后开区间的随机浮点\n",
    "- random.randrange(a,b) 前闭后开"
   ]
  },
  {
   "cell_type": "markdown",
   "metadata": {},
   "source": [
    "## EP：\n",
    "- 产生两个随机整数number1和number2，然后显示给用户，使用户输入数字的和，并判定其是否正确\n",
    "- 进阶:写一个随机序号点名程序"
   ]
  },
  {
   "cell_type": "code",
   "execution_count": 103,
   "metadata": {},
   "outputs": [
    {
     "name": "stdout",
     "output_type": "stream",
     "text": [
      "93 18\n",
      "输入：111\n",
      "1\n"
     ]
    }
   ],
   "source": [
    "num1=random.randint(0,100)\n",
    "num2=random.randint(0,100)\n",
    "print(num1,num2)\n",
    "sum1=eval(input(\"输入：\"))\n",
    "sum2=num1+num2\n",
    "if sum2==sum1:\n",
    "    print(\"1\")\n",
    "else:\n",
    "    print(\"0\")"
   ]
  },
  {
   "cell_type": "code",
   "execution_count": 100,
   "metadata": {},
   "outputs": [
    {
     "name": "stdout",
     "output_type": "stream",
     "text": [
      "张三\n"
     ]
    }
   ],
   "source": [
    "import random\n",
    "num=random.randint(0,5)\n",
    "\n",
    "if num==0:\n",
    "        print(\"张三\")\n",
    "elif num==1:\n",
    "        print(\"李四\")\n",
    "elif num==2:\n",
    "        print(\"44\")\n",
    "elif num==3:\n",
    "        print(\"23\")\n",
    "elif num==4:\n",
    "        print(\"123\")\n",
    "else:\n",
    "        print(\"3434\")"
   ]
  },
  {
   "cell_type": "markdown",
   "metadata": {},
   "source": [
    "## if语句\n",
    "- 如果条件正确就执行一个单向if语句，亦即当条件为真的时候才执行if内部的语句\n",
    "- Python有很多选择语句:\n",
    "> - 单向if \n",
    "  - 双向if-else\n",
    "  - 嵌套if\n",
    "  - 多向if-elif-else\n",
    "  \n",
    "- 注意：当语句含有子语句的时候，那么一定至少要有一个缩进，也就是说如果有儿子存在，那么一定要缩进\n",
    "- 切记不可tab键和space混用，单用tab 或者 space\n",
    "- 当你输出的结果是无论if是否为真时都需要显示时，语句应该与if对齐"
   ]
  },
  {
   "cell_type": "markdown",
   "metadata": {},
   "source": [
    "## EP：\n",
    "- 用户输入一个数字，判断其实奇数还是偶数\n",
    "- 进阶：可以查看下4.5实例研究猜生日"
   ]
  },
  {
   "cell_type": "markdown",
   "metadata": {},
   "source": [
    "## 双向if-else 语句\n",
    "- 如果条件为真，那么走if内部语句，否则走else内部语句"
   ]
  },
  {
   "cell_type": "markdown",
   "metadata": {},
   "source": [
    "## EP：\n",
    "- 产生两个随机整数number1和number2，然后显示给用户，使用户输入数字，并判定其是否正确,如果正确打印“you‘re correct”，否则打印正确错误"
   ]
  },
  {
   "cell_type": "code",
   "execution_count": 108,
   "metadata": {},
   "outputs": [
    {
     "name": "stdout",
     "output_type": "stream",
     "text": [
      "输入成绩：88\n",
      "B\n"
     ]
    }
   ],
   "source": [
    "grade=eval(input(\"输入成绩：\"))\n",
    "if grade>=90:\n",
    "    print(\"A\")\n",
    "elif grade<90 and grade>=80:\n",
    "    print(\"B\")\n",
    "elif grade<80 and grade>=70:\n",
    "    print(\"C\")\n",
    "elif grade<70 and grade>=60:\n",
    "    print(\"D\")\n",
    "else:\n",
    "    print(\"挂科\")"
   ]
  },
  {
   "cell_type": "code",
   "execution_count": null,
   "metadata": {},
   "outputs": [],
   "source": []
  },
  {
   "cell_type": "markdown",
   "metadata": {},
   "source": [
    "## 嵌套if 和多向if-elif-else\n",
    "![](../Photo/35.png)"
   ]
  },
  {
   "cell_type": "markdown",
   "metadata": {},
   "source": [
    "## EP：\n",
    "- 提示用户输入一个年份，然后显示表示这一年的动物\n",
    "![](../Photo/36.png)\n",
    "- 计算身体质量指数的程序\n",
    "- BMI = 以千克为单位的体重除以以米为单位的身高\n",
    "![](../Photo/37.png)"
   ]
  },
  {
   "cell_type": "code",
   "execution_count": 112,
   "metadata": {},
   "outputs": [
    {
     "name": "stdout",
     "output_type": "stream",
     "text": [
      "输入年龄1997\n",
      "兔\n"
     ]
    }
   ],
   "source": [
    "age=eval(input(\"输入年龄\"))\n",
    "num=age%12\n",
    "if num==0:\n",
    "        print(\"狗\")\n",
    "elif num==1:\n",
    "        print(\"猪\")\n",
    "elif num==2:\n",
    "        print(\"鼠\")\n",
    "elif num==3:\n",
    "        print(\"牛\")\n",
    "elif num==4:\n",
    "        print(\"虎\")\n",
    "elif num==5:\n",
    "        print(\"兔\")\n",
    "elif num==6:\n",
    "        print(\"龙\")\n",
    "elif num==7:\n",
    "        print(\"蛇\")\n",
    "elif num==8:\n",
    "        print(\"马\")\n",
    "elif num==9:\n",
    "        print(\"羊\")\n",
    "elif num==10:\n",
    "        print(\"猴\")\n",
    "elif num==11:\n",
    "        print(\"鸡\")\n"
   ]
  },
  {
   "cell_type": "markdown",
   "metadata": {},
   "source": [
    "## 逻辑运算符\n",
    "![](../Photo/38.png)"
   ]
  },
  {
   "cell_type": "markdown",
   "metadata": {},
   "source": [
    "![](../Photo/39.png)\n",
    "![](../Photo/40.png)"
   ]
  },
  {
   "cell_type": "markdown",
   "metadata": {},
   "source": [
    "## EP：\n",
    "- 判定闰年：一个年份如果能被4整除但不能被100整除，或者能被400整除，那么这个年份就是闰年\n",
    "- 提示用户输入一个年份，并返回是否是闰年\n",
    "- 提示用户输入一个数字，判断其是否为水仙花数"
   ]
  },
  {
   "cell_type": "code",
   "execution_count": 119,
   "metadata": {},
   "outputs": [
    {
     "name": "stdout",
     "output_type": "stream",
     "text": [
      "输入年份：2018\n",
      "闰年\n"
     ]
    }
   ],
   "source": [
    "yaers=eval(input(\"输入年份：\"))\n",
    "if (yaers % 4 == 0 and years % 100!=0) or yaers % 400:\n",
    "    print(\"闰年\")\n",
    "else:\n",
    "    print(\"平年\")"
   ]
  },
  {
   "cell_type": "code",
   "execution_count": null,
   "metadata": {},
   "outputs": [],
   "source": []
  },
  {
   "cell_type": "markdown",
   "metadata": {},
   "source": [
    "## 实例研究：彩票\n",
    "![](../Photo/41.png)"
   ]
  },
  {
   "cell_type": "code",
   "execution_count": null,
   "metadata": {},
   "outputs": [],
   "source": [
    "import random\n",
    "import win32com.client\n",
    "dehua = win32com.client.Dispatch('SAPI.SPVOICE')\n",
    "num=eval(input(\"输入\"))\n",
    "num1=random.randint(10,100)\n",
    "if num==num1 :\n",
    "    print(\"一等奖10000美元\",num1)\n",
    "    dehua.Speak('一等奖10000美元，哈哈哈')\n",
    "elif (num // 10 == num1 % 10) and (num % 10 == num1 // 10):\n",
    "    print(\"二等奖3000美元\",num1)\n",
    "    dehua.Speak('二等奖3000美元，哈哈哈')\n",
    "elif (num//10==num1%10) or (num%10==num1//10 ) or (num%10==num1%10) or (num//10==num1//10):\n",
    "    print(\"三等奖1000美元\",num1)\n",
    "    dehua.Speak('三等奖1000美元，哈哈哈')\n",
    "else:\n",
    "    print(\"未中奖\",num1)\n",
    "    dehua.Speak('啥都没中，垃圾')"
   ]
  },
  {
   "cell_type": "markdown",
   "metadata": {},
   "source": [
    "# Homework\n",
    "- 1\n",
    "![](../Photo/42.png)"
   ]
  },
  {
   "cell_type": "code",
   "execution_count": 18,
   "metadata": {},
   "outputs": [
    {
     "name": "stdout",
     "output_type": "stream",
     "text": [
      "请输入a,b,c:1,2,1\n",
      "r1= -1.0 r2= -1.0\n"
     ]
    }
   ],
   "source": [
    "import math\n",
    "a,b,c=eval(input(\"请输入a,b,c:\"))\n",
    "det=b*b-4*a*c\n",
    "if det>0:\n",
    "    r1= (-b+math.sqrt(det))/2*a\n",
    "    r2= (-b-math.sqrt(det))/2*a\n",
    "    print(\"r1=\",round(r1,2),\"r2=\",round(r2,2))\n",
    "elif det==0:\n",
    "    r1= (-b+math.sqrt(det))/2*a\n",
    "    r2= (-b-math.sqrt(det))/2*a\n",
    "    print(\"r1=\",round(r1,2),\"r2=\",round(r2,2))\n",
    "else:\n",
    "    print(\"无解\")\n",
    "    "
   ]
  },
  {
   "cell_type": "markdown",
   "metadata": {},
   "source": [
    "- 2\n",
    "![](../Photo/43.png)"
   ]
  },
  {
   "cell_type": "code",
   "execution_count": 25,
   "metadata": {},
   "outputs": [
    {
     "name": "stdout",
     "output_type": "stream",
     "text": [
      "两个整数为： 16 42\n",
      "写出两个整数的和58\n",
      "结果为： True\n"
     ]
    }
   ],
   "source": [
    "import random\n",
    "num=random.randint(0,100)\n",
    "num1=random.randint(0,100)\n",
    "print(\"两个整数为：\",num,num1)\n",
    "sum1=eval(input(\"写出两个整数的和\"))\n",
    "sum2=num+num1\n",
    "print(\"结果为：\",sum1==sum2)"
   ]
  },
  {
   "cell_type": "markdown",
   "metadata": {},
   "source": [
    "- 3\n",
    "![](../Photo/44.png)"
   ]
  },
  {
   "cell_type": "code",
   "execution_count": 28,
   "metadata": {},
   "outputs": [
    {
     "name": "stdout",
     "output_type": "stream",
     "text": [
      "输入今天是星期几：6\n",
      "输入几天后：7\n",
      "星期六\n"
     ]
    }
   ],
   "source": [
    "now=eval(input(\"输入今天是星期几：\"))\n",
    "day=eval(input(\"输入几天后：\"))\n",
    "s=now+day\n",
    "if s%7==0:\n",
    "    print(\"星期天\")\n",
    "elif s%7==1:\n",
    "    print(\"星期一\")\n",
    "elif s%7==2:\n",
    "    print(\"星期二\")\n",
    "elif s%7==3:\n",
    "    print(\"星期三\")\n",
    "elif s%7==4:\n",
    "    print(\"星期四\")\n",
    "elif s%7==5:\n",
    "    print(\"星期五\")\n",
    "elif s%7==6:\n",
    "    print(\"星期六\")\n",
    "    "
   ]
  },
  {
   "cell_type": "markdown",
   "metadata": {},
   "source": [
    "- 4\n",
    "![](../Photo/45.png)"
   ]
  },
  {
   "cell_type": "code",
   "execution_count": 35,
   "metadata": {},
   "outputs": [
    {
     "name": "stdout",
     "output_type": "stream",
     "text": [
      "输入一个三位数:406\n",
      "046\n"
     ]
    }
   ],
   "source": [
    "num=eval(input(\"输入一个三位数:\"))\n",
    "num1=num//100\n",
    "num2=num//10%10\n",
    "num3=num%10\n",
    "sum1=num1+num2+num3\n",
    "mi=min(num1,num2,num3)\n",
    "mx=max(num1,num2,num3)\n",
    "pi=sum1-mi-mx\n",
    "print(str(mi)+str(pi)+str(mx))"
   ]
  },
  {
   "cell_type": "markdown",
   "metadata": {},
   "source": [
    "- 5\n",
    "![](../Photo/46.png)"
   ]
  },
  {
   "cell_type": "code",
   "execution_count": 5,
   "metadata": {},
   "outputs": [
    {
     "name": "stdout",
     "output_type": "stream",
     "text": [
      "输入重量和价格50,24.95\n",
      "输入重量和价格25,11.25\n",
      "两袋的价格为： 2.0 2.22\n",
      "第一袋价格便宜 2.0\n"
     ]
    }
   ],
   "source": [
    "weight,price=eval(input(\"输入重量和价格\"))\n",
    "weight2,price2=eval(input(\"输入重量和价格\"))\n",
    "package=weight/price\n",
    "package2=weight2/price2\n",
    "print(\"两袋的价格为：\",round(package,2),round(package2,2))\n",
    "if package==package2:\n",
    "    print(\"两袋价格一样\")\n",
    "elif package>package2:\n",
    "    print(\"第二袋价格便宜\",round(package2,2))\n",
    "else:\n",
    "    print(\"第一袋价格便宜\",round(package,2))"
   ]
  },
  {
   "cell_type": "markdown",
   "metadata": {},
   "source": [
    "- 6\n",
    "![](../Photo/47.png)"
   ]
  },
  {
   "cell_type": "code",
   "execution_count": 26,
   "metadata": {},
   "outputs": [
    {
     "name": "stdout",
     "output_type": "stream",
     "text": [
      "输入年份2000\n",
      "输入月份2\n",
      "该年是平年\n",
      "该月有28天\n"
     ]
    }
   ],
   "source": [
    "years=eval(input(\"输入年份\"))\n",
    "month=eval(input(\"输入月份\"))\n",
    "if (years % 4 == 0 and years % 100!=0) or years % 400:\n",
    "    print(\"该年是闰年\")\n",
    "    if month==2:\n",
    "        print(\"该月有29天\")\n",
    "    elif (month==1) or (month==3) or (month==5) or month==8 or month==10 or month==12 or month==7:\n",
    "        print(\"该月有31天\")\n",
    "    else:\n",
    "        print(\"该月有30天\")\n",
    "else:\n",
    "    print(\"该年是平年\")\n",
    "    if month==2:\n",
    "        print(\"该月有28天\")\n",
    "    elif month==1 or month==3  or month==5 or month==8 or month==10 or month==12 or month==7:\n",
    "        print(\"该月有31天\")\n",
    "    else:\n",
    "        print(\"该月有30天\")\n",
    "        "
   ]
  },
  {
   "cell_type": "markdown",
   "metadata": {},
   "source": [
    "- 7\n",
    "![](../Photo/48.png)"
   ]
  },
  {
   "cell_type": "code",
   "execution_count": 34,
   "metadata": {},
   "outputs": [
    {
     "name": "stdout",
     "output_type": "stream",
     "text": [
      "猜正还是反（1是正面，0是反面）：0\n",
      "猜错了\n"
     ]
    }
   ],
   "source": [
    "import random\n",
    "guess=eval(input(\"猜正还是反（1是正面，0是反面）：\"))\n",
    "yes=random.randint(0,1)\n",
    "if guess==0 or guess==1:\n",
    "    if guess==yes:\n",
    "        print(\"猜对了\")\n",
    "    else :\n",
    "        print(\"猜错了\")\n",
    "else:\n",
    "    print(\"输入有误\")\n",
    "    "
   ]
  },
  {
   "cell_type": "markdown",
   "metadata": {},
   "source": [
    "- 8\n",
    "![](../Photo/49.png)"
   ]
  },
  {
   "cell_type": "code",
   "execution_count": 41,
   "metadata": {},
   "outputs": [
    {
     "name": "stdout",
     "output_type": "stream",
     "text": [
      "剪刀是0，石头是1，布是2：2\n",
      "电脑出的是石头。你是布，你赢了\n"
     ]
    }
   ],
   "source": [
    "import random\n",
    "guess1=eval(input(\"剪刀是0，石头是1，布是2：\"))\n",
    "ass=random.randint(0,2)\n",
    "if guess1==1 or guess1==2 or guess1==0: \n",
    "    if ass==0 and guess1==1:\n",
    "        print(\"电脑出的是剪刀。你是石头，你赢了\")\n",
    "    elif ass==1 and guess1==2:\n",
    "        print(\"电脑出的是石头。你是布，你赢了\")\n",
    "    elif ass==2 and guess1==0:\n",
    "        print(\"电脑出的是布。你是剪刀，你赢了\")\n",
    "    elif ass==0 and guess1==2:\n",
    "        print(\"电脑出的是剪刀。你是布，你输了\")\n",
    "    elif ass==1 and guess1==0:\n",
    "        print(\"电脑出的是石头。你是剪刀，你输了\")\n",
    "    elif ass==2 and guess1==1:\n",
    "        print(\"电脑出的是布。你是石头，你输了\")\n",
    "    else:\n",
    "        print(\"平局\")\n",
    "else:\n",
    "    print(\"输入有误\")"
   ]
  },
  {
   "cell_type": "markdown",
   "metadata": {},
   "source": [
    "- 9\n",
    "![](../Photo/50.png)"
   ]
  },
  {
   "cell_type": "markdown",
   "metadata": {},
   "source": [
    "- 10\n",
    "![](../Photo/51.png)"
   ]
  },
  {
   "cell_type": "code",
   "execution_count": 12,
   "metadata": {},
   "outputs": [
    {
     "name": "stdout",
     "output_type": "stream",
     "text": [
      "['黑桃', '4']\n"
     ]
    }
   ],
   "source": [
    "import random\n",
    "side=['A','2','3','4','5','6','7','8','9','10','J','Q','K']\n",
    "color=['梅花','红桃','方块','黑桃']\n",
    "b=random.sample(color,1)\n",
    "a=random.sample(side,1)\n",
    "print(b+a)"
   ]
  },
  {
   "cell_type": "markdown",
   "metadata": {},
   "source": [
    "- 11\n",
    "![](../Photo/52.png)"
   ]
  },
  {
   "cell_type": "code",
   "execution_count": 51,
   "metadata": {},
   "outputs": [
    {
     "name": "stdout",
     "output_type": "stream",
     "text": [
      "输入一个数字：121\n",
      "121 这个数是回文数\n"
     ]
    }
   ],
   "source": [
    "num1=eval(input(\"输入一个数字：\"))\n",
    "a=num1//100\n",
    "b=num1%10\n",
    "if a==b:\n",
    "    print(num1,\"这个数是回文数\")\n",
    "else:\n",
    "    print(num1,\"这个数不是回文数\")"
   ]
  },
  {
   "cell_type": "markdown",
   "metadata": {},
   "source": [
    "- 12\n",
    "![](../Photo/53.png)"
   ]
  },
  {
   "cell_type": "code",
   "execution_count": 46,
   "metadata": {},
   "outputs": [
    {
     "name": "stdout",
     "output_type": "stream",
     "text": [
      "输入三角形的三边：1,2,5\n",
      "输入构不成三角形\n"
     ]
    }
   ],
   "source": [
    "e1,e2,e3 = eval(input(\"输入三角形的三边：\"))\n",
    "if (e1+e2>e3) and (e1+e3>e2) and (e2+e3>e1):\n",
    "    print(\"三角形的周长为\",e1+e2+e3)\n",
    "else:\n",
    "    print(\"输入构不成三角形\")"
   ]
  }
 ],
 "metadata": {
  "kernelspec": {
   "display_name": "Python 3",
   "language": "python",
   "name": "python3"
  },
  "language_info": {
   "codemirror_mode": {
    "name": "ipython",
    "version": 3
   },
   "file_extension": ".py",
   "mimetype": "text/x-python",
   "name": "python",
   "nbconvert_exporter": "python",
   "pygments_lexer": "ipython3",
   "version": "3.6.5"
  }
 },
 "nbformat": 4,
 "nbformat_minor": 2
}
