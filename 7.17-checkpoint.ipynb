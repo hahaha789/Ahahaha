{
 "cells": [
  {
   "cell_type": "markdown",
   "metadata": {},
   "source": [
    "# 数学函数、字符串和对象\n",
    "## 本章介绍Python函数来执行常见的数学运算\n",
    "- 函数是完成一个特殊任务的一组语句，可以理解为一个函数相当于一个小功能，但是在开发中，需要注意一个函数的长度最好不要超过一屏\n",
    "- Python中的内置函数是不需要Import导入的\n",
    "<img src=\"../Photo/15.png\"></img>"
   ]
  },
  {
   "cell_type": "code",
   "execution_count": 1,
   "metadata": {},
   "outputs": [
    {
     "name": "stdout",
     "output_type": "stream",
     "text": [
      "10\n"
     ]
    }
   ],
   "source": [
    "a = -10\n",
    "print(abs(a))"
   ]
  },
  {
   "cell_type": "code",
   "execution_count": null,
   "metadata": {
    "scrolled": true
   },
   "outputs": [],
   "source": [
    "b = -10.1\n",
    "print(abs(b))"
   ]
  },
  {
   "cell_type": "code",
   "execution_count": null,
   "metadata": {},
   "outputs": [],
   "source": [
    "c = 0\n",
    "print(abs(c))"
   ]
  },
  {
   "cell_type": "code",
   "execution_count": null,
   "metadata": {},
   "outputs": [],
   "source": [
    "max(1, 2, 3, 4, 5)\n"
   ]
  },
  {
   "cell_type": "code",
   "execution_count": null,
   "metadata": {},
   "outputs": [],
   "source": [
    "min(1, 2, 3, 4, 5)"
   ]
  },
  {
   "cell_type": "code",
   "execution_count": null,
   "metadata": {},
   "outputs": [],
   "source": [
    "min(1, 2, 3, -4, 5)"
   ]
  },
  {
   "cell_type": "code",
   "execution_count": null,
   "metadata": {
    "scrolled": true
   },
   "outputs": [],
   "source": [
    "for i in range(10):\n",
    "    print(i)"
   ]
  },
  {
   "cell_type": "code",
   "execution_count": null,
   "metadata": {},
   "outputs": [],
   "source": [
    "pow(2, 4, 2)  # 幂指数运算，第三个参数是取模运算"
   ]
  },
  {
   "cell_type": "code",
   "execution_count": 2,
   "metadata": {},
   "outputs": [
    {
     "data": {
      "text/plain": [
       "4545.316"
      ]
     },
     "execution_count": 2,
     "metadata": {},
     "output_type": "execute_result"
    }
   ],
   "source": [
    "round(10.67, 1)  # 一个参数就是四舍五入，保留小数位数\n",
    "round(4545.3156456,3)"
   ]
  },
  {
   "cell_type": "code",
   "execution_count": 39,
   "metadata": {},
   "outputs": [
    {
     "name": "stdout",
     "output_type": "stream",
     "text": [
      "3\n"
     ]
    }
   ],
   "source": [
    "import random\n",
    "com=random.randint(0,3)\n",
    "print (com)"
   ]
  },
  {
   "cell_type": "markdown",
   "metadata": {},
   "source": [
    "## 尝试练习Python内置函数"
   ]
  },
  {
   "cell_type": "markdown",
   "metadata": {},
   "source": [
    "## Python中的math模块提供了许多数学函数\n",
    "<img src=\"../Photo/16.png\"></img>\n",
    "<img src=\"../Photo/17.png\"></img>\n"
   ]
  },
  {
   "cell_type": "code",
   "execution_count": 58,
   "metadata": {},
   "outputs": [
    {
     "ename": "NameError",
     "evalue": "name 'log' is not defined",
     "output_type": "error",
     "traceback": [
      "\u001b[1;31m---------------------------------------------------------------------------\u001b[0m",
      "\u001b[1;31mNameError\u001b[0m                                 Traceback (most recent call last)",
      "\u001b[1;32m<ipython-input-58-6386df4e7406>\u001b[0m in \u001b[0;36m<module>\u001b[1;34m()\u001b[0m\n\u001b[0;32m      1\u001b[0m \u001b[0my\u001b[0m\u001b[1;33m=\u001b[0m\u001b[1;36m1\u001b[0m\u001b[1;33m\u001b[0m\u001b[0m\n\u001b[1;32m----> 2\u001b[1;33m \u001b[0mL\u001b[0m\u001b[1;33m=\u001b[0m\u001b[1;33m-\u001b[0m\u001b[1;33m(\u001b[0m\u001b[0my\u001b[0m\u001b[1;33m*\u001b[0m\u001b[0mlog\u001b[0m\u001b[1;33m(\u001b[0m\u001b[0ma\u001b[0m\u001b[1;33m)\u001b[0m\u001b[1;33m+\u001b[0m\u001b[1;33m(\u001b[0m\u001b[1;36m1\u001b[0m\u001b[1;33m-\u001b[0m\u001b[0my\u001b[0m\u001b[1;33m)\u001b[0m\u001b[1;33m*\u001b[0m\u001b[0mlog\u001b[0m\u001b[1;33m(\u001b[0m\u001b[1;36m1\u001b[0m\u001b[1;33m-\u001b[0m\u001b[0ma\u001b[0m\u001b[1;33m)\u001b[0m\u001b[1;33m)\u001b[0m\u001b[1;33m\u001b[0m\u001b[0m\n\u001b[0m",
      "\u001b[1;31mNameError\u001b[0m: name 'log' is not defined"
     ]
    }
   ],
   "source": [
    "y=1\n",
    "L=-(y*log(a)+(1-y)*log(1-a))"
   ]
  },
  {
   "cell_type": "code",
   "execution_count": 55,
   "metadata": {},
   "outputs": [
    {
     "name": "stdout",
     "output_type": "stream",
     "text": [
      "0.13789844512939453\n"
     ]
    }
   ],
   "source": [
    "import time\n",
    "start =time.time()\n",
    "num = 0\n",
    "for i in range(1000000):\n",
    "    num+=i\n",
    "end = time.time()\n",
    "print(end - start)"
   ]
  },
  {
   "cell_type": "code",
   "execution_count": null,
   "metadata": {},
   "outputs": [],
   "source": [
    "import math # 导入数学包\n",
    "a1 = math.fabs(-2)\n",
    "print(a1)\n",
    "\n",
    "print(math.log(2.71828))\n",
    "print(math.asin(1.0))"
   ]
  },
  {
   "cell_type": "code",
   "execution_count": null,
   "metadata": {},
   "outputs": [],
   "source": [
    "b1 = math.cos(math.radians(90))   # cos代入的是弧度值，very important！\n",
    "print(b1)\n",
    "c1 = 3.1415926\n",
    "print(math.degrees(c1))"
   ]
  },
  {
   "cell_type": "code",
   "execution_count": null,
   "metadata": {},
   "outputs": [],
   "source": [
    "math.sqrt(9)"
   ]
  },
  {
   "cell_type": "code",
   "execution_count": null,
   "metadata": {},
   "outputs": [],
   "source": [
    "math.sin(2 * math.pi)"
   ]
  },
  {
   "cell_type": "code",
   "execution_count": null,
   "metadata": {},
   "outputs": [],
   "source": [
    "math.cos(2 * math.pi)"
   ]
  },
  {
   "cell_type": "code",
   "execution_count": null,
   "metadata": {},
   "outputs": [],
   "source": [
    "min(2, 2, 1)"
   ]
  },
  {
   "cell_type": "code",
   "execution_count": null,
   "metadata": {},
   "outputs": [],
   "source": [
    "math.log(math.e ** 2)"
   ]
  },
  {
   "cell_type": "code",
   "execution_count": null,
   "metadata": {},
   "outputs": [],
   "source": [
    "math.exp(1)"
   ]
  },
  {
   "cell_type": "code",
   "execution_count": null,
   "metadata": {},
   "outputs": [],
   "source": [
    "max(2, 3, 4)"
   ]
  },
  {
   "cell_type": "code",
   "execution_count": null,
   "metadata": {},
   "outputs": [],
   "source": [
    "math.ceil(-2.5)"
   ]
  },
  {
   "cell_type": "code",
   "execution_count": null,
   "metadata": {},
   "outputs": [],
   "source": [
    "# 验证码系统\n",
    "first_num, second_num = 3, 4\n",
    "print('验证码', first_num ,'+', second_num, '= ?')\n",
    "answer = eval(input('写出结果： '))\n",
    "\n",
    "if answer == first_num + second_num:\n",
    "    print('验证码正确')\n",
    "else:\n",
    "    print('验证码错误')\n"
   ]
  },
  {
   "cell_type": "code",
   "execution_count": null,
   "metadata": {},
   "outputs": [],
   "source": [
    "import random\n",
    "import math\n",
    "\n",
    "first_num, second_num = 3, 4\n",
    "list = ['+', '-', '*', '/']\n",
    "randl = random.randint(0, 3)\n",
    "if list[randl]=='+':\n",
    "    print('验证码', first_num ,'+', second_num, '= ?')\n",
    "    right_answer = first_num + second_num\n",
    "elif list[randl]=='-':\n",
    "    print('验证码', first_num ,'-', second_num, '= ?')\n",
    "    right_answer = first_num - second_num\n",
    "elif list[randl]=='-':\n",
    "    print('验证码', first_num ,'*', second_num, '= ?')\n",
    "    right_answer = first_num * second_num\n",
    "else:\n",
    "    print('验证码', first_num ,'/', second_num, '= ?')\n",
    "    right_answer = first_num / second_num\n",
    "    \n",
    "answer = eval(input('写出结果： '))\n",
    "\n",
    "if answer == right_answer:\n",
    "    print('验证码正确')\n",
    "else:\n",
    "    print('验证码错误')"
   ]
  },
  {
   "cell_type": "code",
   "execution_count": null,
   "metadata": {},
   "outputs": [],
   "source": [
    "# 验证码系统\n",
    "import random\n",
    "first_num = random.randint(0, 9)\n",
    "second_num = random.randint(0, 9)\n",
    "fuhao = random.randint(0, 3)\n",
    "\n",
    "if fuhao==0:\n",
    "    print('验证码', first_num ,'+', second_num, '= ?')\n",
    "    right_answer = first_num + second_num\n",
    "elif fuhao==1:\n",
    "    print('验证码', first_num ,'-', second_num, '= ?')\n",
    "    right_answer = first_num - second_num\n",
    "elif fuhao==2:\n",
    "    print('验证码', first_num ,'*', second_num, '= ?')\n",
    "    right_answer = first_num * second_num\n",
    "else:\n",
    "    print('验证码', first_num ,'/', second_num, '= ?')\n",
    "    right_answer = first_num / second_num\n",
    "    \n",
    "answer = eval(input('写出结果： '))\n",
    "\n",
    "if answer == right_answer:\n",
    "    print('验证码正确')\n",
    "else:\n",
    "    print('验证码错误')\n"
   ]
  },
  {
   "cell_type": "code",
   "execution_count": null,
   "metadata": {},
   "outputs": [],
   "source": [
    "import random\n",
    "list = ['+', '-', '*', '/']\n",
    "c = random.sample(list, 1)\n",
    "print(c)"
   ]
  },
  {
   "cell_type": "code",
   "execution_count": 40,
   "metadata": {
    "scrolled": true
   },
   "outputs": [
    {
     "name": "stdout",
     "output_type": "stream",
     "text": [
      "验证码 2 / 4 = ?\n",
      "写出结果： \n"
     ]
    },
    {
     "ename": "SyntaxError",
     "evalue": "unexpected EOF while parsing (<string>, line 0)",
     "output_type": "error",
     "traceback": [
      "Traceback \u001b[1;36m(most recent call last)\u001b[0m:\n",
      "  File \u001b[0;32m\"D:\\Annaconda\\a\\lib\\site-packages\\IPython\\core\\interactiveshell.py\"\u001b[0m, line \u001b[0;32m2963\u001b[0m, in \u001b[0;35mrun_code\u001b[0m\n    exec(code_obj, self.user_global_ns, self.user_ns)\n",
      "\u001b[1;36m  File \u001b[1;32m\"<ipython-input-40-05648505e661>\"\u001b[1;36m, line \u001b[1;32m21\u001b[1;36m, in \u001b[1;35m<module>\u001b[1;36m\u001b[0m\n\u001b[1;33m    answer = eval(input('写出结果： '))\u001b[0m\n",
      "\u001b[1;36m  File \u001b[1;32m\"<string>\"\u001b[1;36m, line \u001b[1;32munknown\u001b[0m\n\u001b[1;33m    \u001b[0m\n\u001b[1;37m    ^\u001b[0m\n\u001b[1;31mSyntaxError\u001b[0m\u001b[1;31m:\u001b[0m unexpected EOF while parsing\n"
     ]
    }
   ],
   "source": [
    "import random\n",
    "import math\n",
    "\n",
    "first_num = random.randint(0, 9)\n",
    "second_num = random.randint(0, 9)\n",
    "list = ['+', '-', '*', '/']\n",
    "fuhao = random.sample(list, 1)\n",
    "if fuhao=='+':\n",
    "    print('验证码', first_num ,'+', second_num, '= ?')\n",
    "    right_answer = first_num + second_num\n",
    "elif fuhao=='-':\n",
    "    print('验证码', first_num ,'-', second_num, '= ?')\n",
    "    right_answer = first_num - second_num\n",
    "elif fuhao=='-':\n",
    "    print('验证码', first_num ,'*', second_num, '= ?')\n",
    "    right_answer = first_num * second_num\n",
    "else:\n",
    "    print('验证码', first_num ,'/', second_num, '= ?')\n",
    "    right_answer = first_num / second_num\n",
    "    \n",
    "answer = eval(input('写出结果： '))\n",
    "\n",
    "if answer == right_answer:\n",
    "    print('验证码正确')\n",
    "else:\n",
    "    print('验证码错误')"
   ]
  },
  {
   "cell_type": "code",
   "execution_count": null,
   "metadata": {},
   "outputs": [],
   "source": [
    "import PIL"
   ]
  },
  {
   "cell_type": "markdown",
   "metadata": {},
   "source": [
    "## 两个数学常量PI和e，可以通过使用math.pi 和math.e调用"
   ]
  },
  {
   "cell_type": "code",
   "execution_count": null,
   "metadata": {},
   "outputs": [],
   "source": [
    "import math\n",
    "print(math.pi)\n",
    "print(math.e)"
   ]
  },
  {
   "cell_type": "markdown",
   "metadata": {},
   "source": [
    "## EP:\n",
    "- 通过math库，写一个程序，使得用户输入三个顶点(x,y)返回三个角度\n",
    "- 注意：Python计算角度为弧度制，需要将其转换为角度\n",
    "<img src=\"../Photo/18.png\">"
   ]
  },
  {
   "cell_type": "code",
   "execution_count": null,
   "metadata": {},
   "outputs": [],
   "source": []
  },
  {
   "cell_type": "code",
   "execution_count": 23,
   "metadata": {},
   "outputs": [
    {
     "name": "stdout",
     "output_type": "stream",
     "text": [
      "42\n"
     ]
    }
   ],
   "source": [
    "c='''\n",
    "sadkjsadklf::\"asdjaslk\"\n",
    "asdjkjad\n",
    "asjdklj\n",
    "'''\n",
    "count=0\n",
    "for i in c:\n",
    "    if i == ':'and i == '\\n':\n",
    "        continue\n",
    "    else:\n",
    "        count+=1\n",
    "print(count)"
   ]
  },
  {
   "cell_type": "code",
   "execution_count": 20,
   "metadata": {},
   "outputs": [
    {
     "data": {
      "text/plain": [
       "b'\\nsadkjsadklf::\"asdjaslk\"\\nasdjkjad\\nasjdklj\\n'"
      ]
     },
     "execution_count": 20,
     "metadata": {},
     "output_type": "execute_result"
    }
   ],
   "source": [
    "bytes(c.encode('utf8'))"
   ]
  },
  {
   "cell_type": "code",
   "execution_count": 5,
   "metadata": {},
   "outputs": [
    {
     "name": "stdout",
     "output_type": "stream",
     "text": [
      "输入第一个顶点：5,5\n",
      "输入第二个顶点：1,1\n",
      "输入第三个顶点：-2,-2\n"
     ]
    },
    {
     "ename": "TypeError",
     "evalue": "'int' object is not callable",
     "output_type": "error",
     "traceback": [
      "\u001b[1;31m---------------------------------------------------------------------------\u001b[0m",
      "\u001b[1;31mTypeError\u001b[0m                                 Traceback (most recent call last)",
      "\u001b[1;32m<ipython-input-5-de78a5864e64>\u001b[0m in \u001b[0;36m<module>\u001b[1;34m()\u001b[0m\n\u001b[0;32m      3\u001b[0m \u001b[0mx2\u001b[0m\u001b[1;33m,\u001b[0m\u001b[0my2\u001b[0m\u001b[1;33m=\u001b[0m\u001b[0meval\u001b[0m\u001b[1;33m(\u001b[0m\u001b[0minput\u001b[0m\u001b[1;33m(\u001b[0m\u001b[1;34m\"输入第二个顶点：\"\u001b[0m\u001b[1;33m)\u001b[0m\u001b[1;33m)\u001b[0m\u001b[1;33m\u001b[0m\u001b[0m\n\u001b[0;32m      4\u001b[0m \u001b[0mx3\u001b[0m\u001b[1;33m,\u001b[0m\u001b[0my3\u001b[0m\u001b[1;33m=\u001b[0m\u001b[0meval\u001b[0m\u001b[1;33m(\u001b[0m\u001b[0minput\u001b[0m\u001b[1;33m(\u001b[0m\u001b[1;34m\"输入第三个顶点：\"\u001b[0m\u001b[1;33m)\u001b[0m\u001b[1;33m)\u001b[0m\u001b[1;33m\u001b[0m\u001b[0m\n\u001b[1;32m----> 5\u001b[1;33m \u001b[0ma\u001b[0m\u001b[1;33m=\u001b[0m\u001b[0meval\u001b[0m\u001b[1;33m(\u001b[0m\u001b[0mmath\u001b[0m\u001b[1;33m.\u001b[0m\u001b[0msqrt\u001b[0m\u001b[1;33m(\u001b[0m\u001b[1;33m(\u001b[0m\u001b[0mx3\u001b[0m\u001b[1;33m-\u001b[0m\u001b[0mx2\u001b[0m\u001b[1;33m)\u001b[0m\u001b[1;33m*\u001b[0m\u001b[1;33m(\u001b[0m\u001b[0mx3\u001b[0m\u001b[1;33m-\u001b[0m\u001b[0mx2\u001b[0m\u001b[1;33m)\u001b[0m\u001b[1;33m+\u001b[0m\u001b[1;33m(\u001b[0m\u001b[0my3\u001b[0m\u001b[1;33m-\u001b[0m\u001b[0my2\u001b[0m\u001b[1;33m)\u001b[0m\u001b[1;33m(\u001b[0m\u001b[0my3\u001b[0m\u001b[1;33m-\u001b[0m\u001b[0my2\u001b[0m\u001b[1;33m)\u001b[0m\u001b[1;33m)\u001b[0m\u001b[1;33m)\u001b[0m\u001b[1;33m\u001b[0m\u001b[0m\n\u001b[0m\u001b[0;32m      6\u001b[0m \u001b[0mb\u001b[0m\u001b[1;33m=\u001b[0m\u001b[0meval\u001b[0m\u001b[1;33m(\u001b[0m\u001b[0mmath\u001b[0m\u001b[1;33m.\u001b[0m\u001b[0msqrt\u001b[0m\u001b[1;33m(\u001b[0m\u001b[1;33m(\u001b[0m\u001b[0mx3\u001b[0m\u001b[1;33m-\u001b[0m\u001b[0mx1\u001b[0m\u001b[1;33m)\u001b[0m\u001b[1;33m*\u001b[0m\u001b[1;33m(\u001b[0m\u001b[0mx3\u001b[0m\u001b[1;33m-\u001b[0m\u001b[0mx1\u001b[0m\u001b[1;33m)\u001b[0m\u001b[1;33m+\u001b[0m\u001b[1;33m(\u001b[0m\u001b[0my3\u001b[0m\u001b[1;33m-\u001b[0m\u001b[0my1\u001b[0m\u001b[1;33m)\u001b[0m\u001b[1;33m(\u001b[0m\u001b[0my3\u001b[0m\u001b[1;33m-\u001b[0m\u001b[0my1\u001b[0m\u001b[1;33m)\u001b[0m\u001b[1;33m)\u001b[0m\u001b[1;33m)\u001b[0m\u001b[1;33m\u001b[0m\u001b[0m\n\u001b[0;32m      7\u001b[0m \u001b[0mc\u001b[0m\u001b[1;33m=\u001b[0m\u001b[0meval\u001b[0m\u001b[1;33m(\u001b[0m\u001b[0mmath\u001b[0m\u001b[1;33m.\u001b[0m\u001b[0msqrt\u001b[0m\u001b[1;33m(\u001b[0m\u001b[1;33m(\u001b[0m\u001b[0mx2\u001b[0m\u001b[1;33m-\u001b[0m\u001b[0mx1\u001b[0m\u001b[1;33m)\u001b[0m\u001b[1;33m*\u001b[0m\u001b[1;33m(\u001b[0m\u001b[0mx2\u001b[0m\u001b[1;33m-\u001b[0m\u001b[0mx1\u001b[0m\u001b[1;33m)\u001b[0m\u001b[1;33m+\u001b[0m\u001b[1;33m(\u001b[0m\u001b[0my2\u001b[0m\u001b[1;33m-\u001b[0m\u001b[0my1\u001b[0m\u001b[1;33m)\u001b[0m\u001b[1;33m(\u001b[0m\u001b[0my2\u001b[0m\u001b[1;33m-\u001b[0m\u001b[0my1\u001b[0m\u001b[1;33m)\u001b[0m\u001b[1;33m)\u001b[0m\u001b[1;33m)\u001b[0m\u001b[1;33m\u001b[0m\u001b[0m\n",
      "\u001b[1;31mTypeError\u001b[0m: 'int' object is not callable"
     ]
    }
   ],
   "source": [
    "import math\n",
    "x1,y1=eval(input(\"输入第一个顶点：\"))\n",
    "x2,y2=eval(input(\"输入第二个顶点：\"))\n",
    "x3,y3=eval(input(\"输入第三个顶点：\"))\n",
    "a=eval(math.sqrt((x3-x2)*(x3-x2)+(y3-y2)(y3-y2)))\n",
    "b=eval(math.sqrt((x3-x1)*(x3-x1)+(y3-y1)(y3-y1)))\n",
    "c=eval(math.sqrt((x2-x1)*(x2-x1)+(y2-y1)(y2-y1)))\n",
    "\n",
    "A=eval(acos((a*a-b*b-c*c)/(-2*b*c)))\n",
    "B=eval(acos((b*b-a*a-c*c)/(-2*a*c)))\n",
    "C=eval(acos((c*c-b*b-a*a)/(-2*b*a)))\n",
    "\n",
    "print(digrees(A))\n",
    "\n"
   ]
  },
  {
   "cell_type": "code",
   "execution_count": null,
   "metadata": {},
   "outputs": [],
   "source": [
    "import math\n",
    "\n",
    "x1, y1 = eval(input('输入A点坐标：'))\n",
    "x2, y2 = eval(input('输入B点坐标：'))\n",
    "x3, y3 = eval(input('输入C点坐标：'))\n",
    "\n",
    "a = math.sqrt((x1 - x2) ** 2 + (y1 - y2) ** 2)\n",
    "b = math.sqrt((x1 - x3) ** 2 + (y1 - y3) ** 2)\n",
    "c = math.sqrt((x2 - x3) ** 2 + (y2 - y3) ** 2)\n",
    "\n",
    "A = math.degrees(math.acos((a * a - b * b - c * c) / (-2 * b * c)))\n",
    "B = math.degrees(math.acos((b * b - a * a - c * c) / (-2 * a * c)))\n",
    "C = math.degrees(math.acos((c * c - b * b - a * a) / (-2 * a * b)))\n",
    "\n",
    "print('三角形的三个角分别为', A, B, C)\n",
    "\n",
    "                 \n"
   ]
  },
  {
   "cell_type": "markdown",
   "metadata": {},
   "source": [
    "## 字符串和字符\n",
    "- 在Python中，字符串必须是在单引号或者双引号内，在多段换行的字符串中可以使用“”“\n",
    "- 在使用”“”时，给予其变量则变为字符串，否则当多行注释使用"
   ]
  },
  {
   "cell_type": "code",
   "execution_count": null,
   "metadata": {},
   "outputs": [],
   "source": [
    "a = 'joker'\n",
    "b = \"Kate\"\n",
    "c = \"\"\"在Python中，字符串必须是在单引号或者双引号内，在多段换行的字符串中可以使用“”“\n",
    "在使用”“”时，给予其变量则变为字符串，否则当多行注释使用\"\"\"   #字符串有多行时，添加三个单引号或者三个双引号\n",
    "\n",
    "\"\"\"在Python中，字符串必须是在单引号或者双引号内，在多段换行的字符串中可以使用“”“\n",
    "在使用”“”时，给予其变量则变为字符串，否则当多行注释使用\"\"\"   #三引号可以表示多行注释\n",
    "# 当6个引号没有赋值时，那么它是注释的作用\n",
    "# 6个引号的作用，多行文本\n",
    "\n",
    "print(type(a), type(b), type(c))"
   ]
  },
  {
   "cell_type": "markdown",
   "metadata": {},
   "source": [
    "## ASCII码与Unicode码\n",
    "- <img src=\"../Photo/19.png\"></img>\n",
    "- <img src=\"../Photo/20.png\"></img>\n",
    "- <img src=\"../Photo/21.png\"></img>"
   ]
  },
  {
   "cell_type": "markdown",
   "metadata": {},
   "source": [
    "## 函数ord、chr\n",
    "- ord 返回ASCII码值\n",
    "- chr 返回字符"
   ]
  },
  {
   "cell_type": "code",
   "execution_count": 53,
   "metadata": {},
   "outputs": [
    {
     "name": "stdout",
     "output_type": "stream",
     "text": [
      ":46:95741Arr/dpn\n",
      "935984630@qq.com\n"
     ]
    }
   ],
   "source": [
    "mail='935984630@qq.com'\n",
    "ab=''\n",
    "for i in mail:\n",
    "    a=ord(i)+1\n",
    "    b=chr(a)\n",
    "    ab=''.join((ab,b))\n",
    "print(ab)\n",
    "de=''\n",
    "for c in ab:\n",
    "    d=ord(c)-1\n",
    "    e=chr(d)\n",
    "    de=''.join((de,e))\n",
    "print(de)\n",
    "\n",
    "\n",
    "\n",
    "\n",
    "\n",
    "\n",
    "\n"
   ]
  },
  {
   "cell_type": "code",
   "execution_count": 11,
   "metadata": {},
   "outputs": [
    {
     "data": {
      "text/plain": [
       "'a b'"
      ]
     },
     "execution_count": 11,
     "metadata": {},
     "output_type": "execute_result"
    }
   ],
   "source": [
    "' '.join(('a','b'))"
   ]
  },
  {
   "cell_type": "code",
   "execution_count": 13,
   "metadata": {},
   "outputs": [
    {
     "data": {
      "text/plain": [
       "'a  b'"
      ]
     },
     "execution_count": 13,
     "metadata": {},
     "output_type": "execute_result"
    }
   ],
   "source": [
    "'a'+'  '+'b'"
   ]
  },
  {
   "cell_type": "code",
   "execution_count": 2,
   "metadata": {},
   "outputs": [
    {
     "name": "stdout",
     "output_type": "stream",
     "text": [
      "113 90\n"
     ]
    }
   ],
   "source": [
    "joker = 'A'\n",
    "ord(joker)\n",
    "print(ord('q'), ord('Z'))"
   ]
  },
  {
   "cell_type": "code",
   "execution_count": null,
   "metadata": {},
   "outputs": [],
   "source": [
    "print(chr(65))\n",
    "print(chr(90))"
   ]
  },
  {
   "cell_type": "code",
   "execution_count": 2,
   "metadata": {},
   "outputs": [
    {
     "data": {
      "text/plain": [
       "(array([0], dtype=int64),)"
      ]
     },
     "execution_count": 2,
     "metadata": {},
     "output_type": "execute_result"
    }
   ],
   "source": [
    "import numpy as np\n",
    "np.nonzero(1)"
   ]
  },
  {
   "cell_type": "markdown",
   "metadata": {},
   "source": [
    "## EP:\n",
    "- 利用ord与chr进行简单邮箱加密"
   ]
  },
  {
   "cell_type": "code",
   "execution_count": null,
   "metadata": {},
   "outputs": [],
   "source": [
    "email = 'maomaochong@163.com'  # 邮箱加密过程\n",
    "j = 0\n",
    "for i in email:\n",
    "    text = ord(i) + 1\n",
    "    re_text = chr(text)\n",
    "    print(re_text)"
   ]
  },
  {
   "cell_type": "code",
   "execution_count": null,
   "metadata": {},
   "outputs": [],
   "source": [
    "import hashlib\n",
    "str1 = 'this is a test.'\n",
    "h1 = hashlib.md5()\n",
    "h1.update(str1.encode(encoding = 'utf-8'))\n",
    "print('MD5加密之后为：', h1.hexdigest())"
   ]
  },
  {
   "cell_type": "markdown",
   "metadata": {},
   "source": [
    "## 转义序列 \\\n",
    "- a = \"He said,\"Johon's program is easy to read\"\"\n",
    "- 转掉原来的意思\n",
    "- 一般情况下，只有当语句与默认语句相撞的时候，就需要转义"
   ]
  },
  {
   "cell_type": "code",
   "execution_count": null,
   "metadata": {},
   "outputs": [],
   "source": [
    "a = \"He said,\\\"Johon's program is easy to read\\\"\"  #z正则表达式中常用转义字符\\\n",
    "print(a)"
   ]
  },
  {
   "cell_type": "markdown",
   "metadata": {},
   "source": [
    "## 高级print\n",
    "- 参数 end： 以什么方式结束打印\n",
    "- 默认换行打印"
   ]
  },
  {
   "cell_type": "code",
   "execution_count": null,
   "metadata": {},
   "outputs": [],
   "source": [
    "email = 'maomaochong@163.com'  # 邮箱加密过程\n",
    "j = 0\n",
    "for i in email:\n",
    "    text = ord(i) + 1\n",
    "    re_text = chr(text)\n",
    "    print(re_text, end = '')"
   ]
  },
  {
   "cell_type": "markdown",
   "metadata": {},
   "source": [
    "## 函数str\n",
    "- 将类型强制转换成字符串类型\n",
    "- 其他一些以后会学到(list,set,tuple...)"
   ]
  },
  {
   "cell_type": "code",
   "execution_count": null,
   "metadata": {},
   "outputs": [],
   "source": [
    "a = 100.12\n",
    "type(str(a))"
   ]
  },
  {
   "cell_type": "markdown",
   "metadata": {},
   "source": [
    "## 字符串连接操作\n",
    "- 直接使用 “+” \n",
    "- join() 函数 "
   ]
  },
  {
   "cell_type": "code",
   "execution_count": null,
   "metadata": {},
   "outputs": [],
   "source": [
    "a1 = 'www.baidu.com/image.page='\n",
    "a2 = '1'\n",
    "for i in range(0, 10):\n",
    "    a2 = a1 + str(i)\n",
    "    print(a2)"
   ]
  },
  {
   "cell_type": "code",
   "execution_count": null,
   "metadata": {},
   "outputs": [],
   "source": [
    "joint = '^'\n",
    "%time  joint.join(('a', 'b', 'c', 'd'))  # join的参数需要在一个元组之中"
   ]
  },
  {
   "cell_type": "code",
   "execution_count": null,
   "metadata": {},
   "outputs": [],
   "source": [
    "%time  '*'.join(('a', 'b', 'c', 'd'))  # join的参数需要在一个元组之中"
   ]
  },
  {
   "cell_type": "code",
   "execution_count": null,
   "metadata": {},
   "outputs": [],
   "source": [
    "%time 'A' + 'B' + 'C'"
   ]
  },
  {
   "cell_type": "markdown",
   "metadata": {},
   "source": [
    "## EP：\n",
    "- 将 “Welcome” “to” \"Python\" 拼接\n",
    "- 将int型 100 与 “joker is a bad man” 拼接\n",
    "- 从控制台读取字符串\n",
    "> 输入一个名字返回夸奖此人是一个帅哥"
   ]
  },
  {
   "cell_type": "code",
   "execution_count": null,
   "metadata": {},
   "outputs": [],
   "source": [
    "text1 = ' '.join(('Welcome', 'to', 'Python'))\n",
    "i = 100\n",
    "text2 = str(i)\n",
    "text3 = ' '.join((text2, 'Joker is a bad man'))\n",
    "print(text1, '\\n', text2 ,'\\n', text3)"
   ]
  },
  {
   "cell_type": "code",
   "execution_count": null,
   "metadata": {},
   "outputs": [],
   "source": [
    "name = input('输入名字：')\n",
    "text = ' '.join((name, 'is a good boy.'))\n",
    "print(text)"
   ]
  },
  {
   "cell_type": "markdown",
   "metadata": {},
   "source": [
    "## 实例研究：最小数量硬币\n",
    "- 开发一个程序，让用户输入总金额，这是一个用美元和美分表示的浮点值，返回一个由美元、两角五分的硬币、一角的硬币、五分硬币、以及美分个数\n",
    "<img src=\"../Photo/22.png\"></img>"
   ]
  },
  {
   "cell_type": "code",
   "execution_count": null,
   "metadata": {},
   "outputs": [],
   "source": [
    "amount = eval(input('Enter an amount, for example 11.56: '))\n",
    "fenshuAmount = int(amount * 100)\n",
    "dollorAmount = fenshuAmount // 100\n",
    "remainDollorAmount = fenshuAmount % 100\n",
    "jiaoAmount = remainDollorAmount // 25\n",
    "remainJiaoAmount = remainDollorAmount % 25\n",
    "fenAmount = remainJiaoAmount // 10\n",
    "remainFenAmount = remainJiaoAmount % 10\n",
    "fenAmount2 = remainFenAmount // 5\n",
    "remainFenAmount2 = remainFenAmount % 5\n",
    "fenFinalAmount = remainFenAmount2 \n",
    "print('美元个数为',dollorAmount,'\\n', '两角五分硬币个数为',\n",
    "      jiaoAmount, '\\n','一角个数为', fenAmount, '\\n','五美分个数为', fenAmount2,'\\n', '一美分个数为',fenFinalAmount)"
   ]
  },
  {
   "cell_type": "code",
   "execution_count": null,
   "metadata": {},
   "outputs": [],
   "source": [
    "amount = eval(input('Ennter an amount,for example 11.56:'))\n",
    "remainingAmount = int(amount * 100)\n",
    "print(remainingAmount)\n",
    "numberOfOneDollars = remainingAmount //100\n",
    "remainingAmount = remainingAmount % 100\n",
    "numberOfQuarters = remainingAmount // 25\n",
    "remainingAmount = remainingAmount % 25\n",
    "numberOfDimes = remainingAmount // 10\n",
    "remainingAmount = remainingAmount % 10\n",
    "numberOfNickls = remainingAmount // 5\n",
    "remainingAmount = remainingAmount % 5\n",
    "numberOfPenies = remainingAmount\n",
    "print(numberOfOneDollars,numberOfQuarters,numberOfDimes,numberOfNickls,numberOfPenies)"
   ]
  },
  {
   "cell_type": "markdown",
   "metadata": {},
   "source": [
    "- Python弱项，对于浮点型的处理并不是很好，但是处理数据的时候使用的是Numpy类型\n",
    "<img src=\"../Photo/23.png\"></img>"
   ]
  },
  {
   "cell_type": "code",
   "execution_count": null,
   "metadata": {},
   "outputs": [],
   "source": [
    "remainingAmount = eval(input('Ennter an amount,for example 11.56:'))\n",
    "print(remainingAmount)\n",
    "numberOfOneDollars = remainingAmount //100\n",
    "remainingAmount = remainingAmount % 100\n",
    "numberOfQuarters = remainingAmount // 25\n",
    "remainingAmount = remainingAmount % 25\n",
    "numberOfDimes = remainingAmount // 10\n",
    "remainingAmount = remainingAmount % 10\n",
    "numberOfNickls = remainingAmount // 5\n",
    "remainingAmount = remainingAmount % 5\n",
    "numberOfPenies = remainingAmount\n",
    "print(numberOfOneDollars,numberOfQuarters,numberOfDimes,numberOfNickls,numberOfPenies)"
   ]
  },
  {
   "cell_type": "markdown",
   "metadata": {},
   "source": [
    "## id与type\n",
    "- id 查看内存地址，在判断语句中将会使用\n",
    "- type 查看元素类型"
   ]
  },
  {
   "cell_type": "code",
   "execution_count": null,
   "metadata": {},
   "outputs": [],
   "source": [
    "a = 100\n",
    "id(a)"
   ]
  },
  {
   "cell_type": "code",
   "execution_count": null,
   "metadata": {
    "scrolled": true
   },
   "outputs": [],
   "source": [
    "id(True)"
   ]
  },
  {
   "cell_type": "code",
   "execution_count": null,
   "metadata": {},
   "outputs": [],
   "source": [
    "100 == 100"
   ]
  },
  {
   "cell_type": "code",
   "execution_count": null,
   "metadata": {},
   "outputs": [],
   "source": [
    "112345678800000000 is '112345678800000000'"
   ]
  },
  {
   "cell_type": "code",
   "execution_count": null,
   "metadata": {},
   "outputs": [],
   "source": [
    "112345678800000000 is 112345678800000000"
   ]
  },
  {
   "cell_type": "code",
   "execution_count": null,
   "metadata": {},
   "outputs": [],
   "source": [
    "a = True\n",
    "b = False\n",
    "print(id(a), id(b))\n",
    "a is b\n"
   ]
  },
  {
   "cell_type": "markdown",
   "metadata": {},
   "source": [
    "## 其他格式化语句见书"
   ]
  },
  {
   "cell_type": "markdown",
   "metadata": {},
   "source": [
    "# Homework\n",
    "- 1\n",
    "<img src=\"../Photo/24.png\"><img>\n",
    "<img src=\"../Photo/25.png\"><img>"
   ]
  },
  {
   "cell_type": "code",
   "execution_count": 56,
   "metadata": {},
   "outputs": [
    {
     "name": "stdout",
     "output_type": "stream",
     "text": [
      "Enter the length from the center to a vertex :5.5\n",
      "71.92\n"
     ]
    }
   ],
   "source": [
    "import math\n",
    "r=eval(input(\"Enter the length from the center to a vertex :\"))\n",
    "s=2*r*math.sin(math.pi/5)\n",
    "Area=5*s*s/(4*math.tan(math.pi/5))\n",
    "print(round(Area,2))\n",
    "\n",
    "\n",
    "\n"
   ]
  },
  {
   "cell_type": "markdown",
   "metadata": {},
   "source": [
    "- 2\n",
    "<img src=\"../Photo/26.png\"><img>"
   ]
  },
  {
   "cell_type": "code",
   "execution_count": 59,
   "metadata": {},
   "outputs": [
    {
     "name": "stdout",
     "output_type": "stream",
     "text": [
      "Enter point 1 in degrees:39.55,-116.25\n",
      "Enter point 2 in degrees:41.5,87.37\n",
      "The distance between the two points is 10691.79183231593 km\n"
     ]
    }
   ],
   "source": [
    "import math \n",
    "x1,y1 = eval(input('Enter point 1 in degrees:'))\n",
    "x2,y2 = eval(input('Enter point 2 in degrees:'))\n",
    "x1 =math.radians(x1)\n",
    "x2 =math.radians(x2)\n",
    "y1 =math.radians(y1)\n",
    "y2 =math.radians(y2)\n",
    "radius=6371.01\n",
    "d = radius * math.acos(math.sin(x1) * math.sin(x2) + math.cos(x1) * math.cos(x2) * math.cos(y1 - y2))\n",
    "print('The distance between the two points is',round(d,11),'km')"
   ]
  },
  {
   "cell_type": "markdown",
   "metadata": {},
   "source": [
    "- 3\n",
    "<img src=\"../Photo/27.png\"><img>"
   ]
  },
  {
   "cell_type": "code",
   "execution_count": 70,
   "metadata": {},
   "outputs": [
    {
     "name": "stdout",
     "output_type": "stream",
     "text": [
      "Enter the side:5.5\n",
      "The area of the pentagon is 52.044441367816255\n"
     ]
    }
   ],
   "source": [
    "import math\n",
    "s=eval(input(\"Enter the side:\"))\n",
    "Area=5*s*s/(4*math.tan(math.pi/5))\n",
    "print(\"The area of the pentagon is\",Area)"
   ]
  },
  {
   "cell_type": "markdown",
   "metadata": {},
   "source": [
    "- 4\n",
    "<img src=\"../Photo/28.png\"><img>"
   ]
  },
  {
   "cell_type": "code",
   "execution_count": 72,
   "metadata": {},
   "outputs": [
    {
     "name": "stdout",
     "output_type": "stream",
     "text": [
      "Enter the number of sides:5\n",
      "Enter the side :6.5\n",
      "The area of the polygon is 72.69017017488386\n"
     ]
    }
   ],
   "source": [
    "import math\n",
    "n=eval(input(\"Enter the number of sides:\"))\n",
    "s=eval(input(\"Enter the side :\"))\n",
    "Area=n*s*s/(4*math.tan(math.pi/n))\n",
    "print(\"The area of the polygon is\",Area)"
   ]
  },
  {
   "cell_type": "markdown",
   "metadata": {},
   "source": [
    "- 5\n",
    "<img src=\"../Photo/29.png\"><img>\n",
    "<img src=\"../Photo/30.png\"><img>"
   ]
  },
  {
   "cell_type": "code",
   "execution_count": 74,
   "metadata": {},
   "outputs": [
    {
     "name": "stdout",
     "output_type": "stream",
     "text": [
      "Enter an ASCII code:69\n",
      "The character is E\n"
     ]
    }
   ],
   "source": [
    "num=eval(input(\"Enter an ASCII code:\"))\n",
    "print(\"The character is\",chr(num))"
   ]
  },
  {
   "cell_type": "markdown",
   "metadata": {},
   "source": [
    "- 6\n",
    "<img src=\"../Photo/31.png\"><img>"
   ]
  },
  {
   "cell_type": "code",
   "execution_count": 80,
   "metadata": {},
   "outputs": [
    {
     "name": "stdout",
     "output_type": "stream",
     "text": [
      "Enter empoyee's name:Smith\n",
      "Enter number of hours worked in a week:10\n",
      "Enter hourly pay rate:9.75\n",
      "Enter federal tax withholding rate:0.2\n",
      "Enter tax withholding rate:0.09\n",
      "\n",
      "----------------- wage schedule Smith ----------\n",
      "Employee Name:Smith\n",
      "Hours Worked:10\n",
      "Pay Rate:$9.75\n",
      "Gross Pay:$97.5\n",
      "Deductions:\n",
      "    Federal Withholding(20.0%):$19.5\n",
      "    State Withholding(9.0%):$8.775\n",
      "    Total Deduction:$28.275\n",
      "Net Pay:$69.225\n",
      "\n"
     ]
    }
   ],
   "source": [
    "name =input(\"Enter empoyee's name:\")\n",
    "num=eval(input(\"Enter number of hours worked in a week:\"))\n",
    "hour=eval(input(\"Enter hourly pay rate:\"))\n",
    "federal=eval(input(\"Enter federal tax withholding rate:\"))\n",
    "state=eval(input(\"Enter tax withholding rate:\"))\n",
    "\n",
    "grossPay = num * hour\n",
    "fe = grossPay * federal\n",
    "state2 = grossPay * state\n",
    "total= fe + state2\n",
    "netPay = grossPay - total\n",
    "\n",
    "schedule=\"\"\"\n",
    "----------------- wage schedule {name} ----------\n",
    "Employee Name:{name}\n",
    "Hours Worked:{num}\n",
    "Pay Rate:${hour}\n",
    "Gross Pay:${grossPay}\n",
    "Deductions:\n",
    "    Federal Withholding(20.0%):${fe}\n",
    "    State Withholding(9.0%):${state2}\n",
    "    Total Deduction:${total}\n",
    "Net Pay:${netPay}\n",
    "\"\"\".format(name=name,\n",
    "           num=num,\n",
    "           hour=hour,\n",
    "           grossPay=grossPay,\n",
    "           fe=fe,\n",
    "           state2=state2,\n",
    "           total=total,\n",
    "           netPay=netPay)\n",
    "print(schedule)"
   ]
  },
  {
   "cell_type": "markdown",
   "metadata": {},
   "source": [
    "- 7\n",
    "<img src=\"../Photo/32.png\"><img>"
   ]
  },
  {
   "cell_type": "code",
   "execution_count": 67,
   "metadata": {},
   "outputs": [
    {
     "name": "stdout",
     "output_type": "stream",
     "text": [
      "Enter an integer:5789\n",
      "9875\n"
     ]
    }
   ],
   "source": [
    "num=eval(input(\"Enter an integer:\"))\n",
    "renum=''\n",
    "for i in str(num):\n",
    "    renum=i+renum\n",
    "print (renum)"
   ]
  },
  {
   "cell_type": "markdown",
   "metadata": {},
   "source": [
    "- 8 进阶：\n",
    "> 加密一串文本，并将解密后的文件写入本地保存"
   ]
  },
  {
   "cell_type": "code",
   "execution_count": 60,
   "metadata": {},
   "outputs": [
    {
     "name": "stdout",
     "output_type": "stream",
     "text": [
      ":46:95741Arr/dpn\n",
      "935984630@qq.com\n"
     ]
    }
   ],
   "source": [
    "mail='935984630@qq.com'\n",
    "ab=''\n",
    "for i in mail:\n",
    "    a=ord(i)+1\n",
    "    b=chr(a)\n",
    "    ab=''.join((ab,b))\n",
    "print(ab)\n",
    "de=''\n",
    "for c in ab:\n",
    "    d=ord(c)-1\n",
    "    e=chr(d)\n",
    "    de=''.join((de,e))\n",
    "print(de)\n"
   ]
  }
 ],
 "metadata": {
  "kernelspec": {
   "display_name": "Python 3",
   "language": "python",
   "name": "python3"
  },
  "language_info": {
   "codemirror_mode": {
    "name": "ipython",
    "version": 3
   },
   "file_extension": ".py",
   "mimetype": "text/x-python",
   "name": "python",
   "nbconvert_exporter": "python",
   "pygments_lexer": "ipython3",
   "version": "3.6.5"
  }
 },
 "nbformat": 4,
 "nbformat_minor": 2
}
